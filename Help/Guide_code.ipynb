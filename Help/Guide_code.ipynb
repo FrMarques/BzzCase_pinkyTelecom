{
 "cells": [
  {
   "cell_type": "markdown",
   "metadata": {},
   "source": [
    "# Guide for useful code"
   ]
  },
  {
   "cell_type": "code",
   "execution_count": 1,
   "metadata": {},
   "outputs": [
    {
     "name": "stdout",
     "output_type": "stream",
     "text": [
      "XGBoost version: 2.1.3\n",
      "Scikit-learn version: 1.5.2\n"
     ]
    }
   ],
   "source": [
    "import xgboost\n",
    "import sklearn\n",
    "\n",
    "print(\"XGBoost version:\", xgboost.__version__)\n",
    "print(\"Scikit-learn version:\", sklearn.__version__)"
   ]
  },
  {
   "cell_type": "markdown",
   "metadata": {},
   "source": [
    "### Delete unwanted columns"
   ]
  },
  {
   "cell_type": "code",
   "execution_count": null,
   "metadata": {},
   "outputs": [],
   "source": [
    "# Delete unnecessary columns:\n",
    "columns_to_drop = ['customerID']\n",
    "data = data.drop(columns=columns_to_drop)"
   ]
  },
  {
   "cell_type": "markdown",
   "metadata": {},
   "source": [
    "### Adding a column to define groups by tenure (months as client) on the company"
   ]
  },
  {
   "cell_type": "code",
   "execution_count": null,
   "metadata": {},
   "outputs": [],
   "source": [
    "    # Adding a grouping column having \"tenure\" as the base\n",
    "def group_tenure(tenure):\n",
    "    if tenure <= 2:\n",
    "        return 'Recente (0-2 meses)'\n",
    "    elif tenure <= 24:\n",
    "        return 'Médio prazo (2-24 meses)'\n",
    "    else:\n",
    "        return 'Longo prazo (>24 meses)'\n",
    "\n",
    "data['tenure_group'] = data['tenure'].apply(group_tenure)"
   ]
  },
  {
   "cell_type": "markdown",
   "metadata": {},
   "source": [
    "### Checking different groups of clients"
   ]
  },
  {
   "cell_type": "code",
   "execution_count": null,
   "metadata": {},
   "outputs": [],
   "source": [
    "    # Checking distribution of clients by tenure and churn\n",
    "distribution = data.groupby(['tenure_group', 'Churn']).size().unstack()\n",
    "print(distribution)"
   ]
  },
  {
   "cell_type": "markdown",
   "metadata": {},
   "source": [
    "### Setting a dataset with the churn and not_churn clients"
   ]
  },
  {
   "cell_type": "code",
   "execution_count": null,
   "metadata": {},
   "outputs": [],
   "source": [
    "pinkyData_churned = pinkyData[pinkyData[\"Churn\"] == \"Yes\"]\n",
    "pinkyData_churned.info()\n",
    "\n",
    "pinkyData_clients = pinkyData[pinkyData[\"Churn\"] == \"No\"]"
   ]
  },
  {
   "cell_type": "markdown",
   "metadata": {},
   "source": [
    "### Conta os diferentes tipos de variaveis num dataframe e lista certos tipos de colunas\n"
   ]
  },
  {
   "cell_type": "code",
   "execution_count": null,
   "metadata": {},
   "outputs": [],
   "source": [
    "print(X.dtypes.value_counts())\n",
    "\n",
    "# Listar colunas que ainda são do tipo object\n",
    "print(X.select_dtypes(include=['object']).columns)\n"
   ]
  },
  {
   "cell_type": "markdown",
   "metadata": {},
   "source": [
    "### Preenche as células vazias com o valor imediatamente anterior na coluna\n",
    "* bfill preenche com o valor exatamente à frente."
   ]
  },
  {
   "cell_type": "code",
   "execution_count": null,
   "metadata": {},
   "outputs": [],
   "source": [
    "df_col[\"Referal\"] = df_col[\"Referal\"].ffill()"
   ]
  },
  {
   "cell_type": "markdown",
   "metadata": {},
   "source": [
    "### Mostrar apenas as colunas com dados de um certo tipo (\"object\", no caso)"
   ]
  },
  {
   "cell_type": "code",
   "execution_count": null,
   "metadata": {},
   "outputs": [],
   "source": [
    "df_memory[df_memory.select_dtypes([\"object\"]).columns]\n"
   ]
  },
  {
   "cell_type": "markdown",
   "metadata": {},
   "source": [
    "### Também é possivel um \"describe\" a colunas \"object\"/\"str\"\n",
    "* O \".T\" no final inverte os valores na tabela (as colunas passam a estar nas linhas)"
   ]
  },
  {
   "cell_type": "code",
   "execution_count": null,
   "metadata": {},
   "outputs": [],
   "source": [
    "df_col.describe(include = object).T"
   ]
  },
  {
   "cell_type": "markdown",
   "metadata": {},
   "source": [
    "### Calcular a correlação de certas \"features\" com as restantes ou com outras especificas"
   ]
  },
  {
   "cell_type": "code",
   "execution_count": null,
   "metadata": {},
   "outputs": [],
   "source": [
    "# Calculating the correlation of column A against all others\n",
    "corr_matrix = df.corr()['A']\n",
    "\n",
    "# calculate correlation between two columns (only numeric is recognised)\n",
    "df_col[\"Age\"].corr(df_col[\"Amount_spent\"])"
   ]
  },
  {
   "cell_type": "markdown",
   "metadata": {},
   "source": [
    "### Calculating the churn_rate:"
   ]
  },
  {
   "cell_type": "code",
   "execution_count": null,
   "metadata": {},
   "outputs": [],
   "source": [
    "total_clients = pinkyData.shape[0]\n",
    "churned_clients = pinkyData[pinkyData[\"Churn\"] == \"Yes\"].shape[0]\n",
    "\n",
    "pinkyChurn_rate = (churned_clients / total_clients) *100\n",
    "\n",
    "print(f\"The Pinky churn_rate is {pinkyChurn_rate: .2f} %\")\n",
    "\n",
    "# 31,51%"
   ]
  },
  {
   "cell_type": "markdown",
   "metadata": {},
   "source": [
    "## Multiple graphs to compare variables by churn (yes or no):"
   ]
  },
  {
   "cell_type": "code",
   "execution_count": null,
   "metadata": {},
   "outputs": [],
   "source": [
    "import seaborn as sns\n",
    "\n",
    "fig, axs = plt.subplots(5, 2, figsize=(15, 12))\n",
    "\n",
    "sns.countplot(x=\"gender\", data=pinkyData , hue=\"Churn\", ax=axs[0, 0])\n",
    "axs[0, 0].set_title(\"Gender by churn\")\n",
    "\n",
    "sns.countplot(x=\"SeniorCitizen\", data=pinkyData , hue=\"Churn\", ax=axs[0, 1])\n",
    "axs[0, 1].set_title(\"Senior citizen by churn\")\n",
    "\n",
    "sns.countplot(x=\"Partner\", data=pinkyData , hue=\"Churn\", ax=axs[1, 0])\n",
    "\n",
    "sns.countplot(x=\"Dependents\", data=pinkyData , hue=\"Churn\", ax=axs[1, 1])\n",
    "\n",
    "sns.boxplot(data=pinkyData, y='MonthlyCharges', hue='Churn',ax=axs[2, 0])\n",
    "axs[2, 0].set_title('Monthly Charges')\n",
    "\n",
    "sns.countplot(x=\"Contract\", data=pinkyData , hue=\"Churn\", ax=axs[2, 1])\n",
    "axs[2, 1].set_title(\"Contract's type by churn\")\n",
    "axs[2, 1].set_ylabel('Number')\n",
    "\n",
    "sns.boxplot(data=pinkyData, y='TotalCharges', hue='Churn',ax=axs[3, 0])\n",
    "axs[3, 0].set_title('Total charges by year by churn')\n",
    "\n",
    "sns.countplot(x=\"PaymentMethod\", data=pinkyData , hue=\"Churn\", ax=axs[3, 1])\n",
    "axs[3, 1].set_title(\"Method of payment by churn\")\n",
    "\n",
    "sns.countplot(x=\"DeviceProtection\", data=pinkyData , hue=\"Churn\", ax=axs[4, 0])\n",
    "axs[4, 0].set_title(\"Device Protection by churn\")\n",
    "\n",
    "sns.countplot(x=\"TechSupport\", data=pinkyData , hue=\"Churn\", ax=axs[4, 1])\n",
    "axs[4, 1].set_title(\"TechSupport by churn\")\n",
    "\n",
    "# Utiliser tight_layout pour ajuster les espacements\n",
    "plt.tight_layout()\n",
    "plt.show()"
   ]
  },
  {
   "cell_type": "markdown",
   "metadata": {},
   "source": [
    "1️⃣ Estrutura geral do pipeline para previsão de Churn\n",
    "\n",
    "A abordagem correta envolve manter todos os clientes num único dataframe (não dividir em dois dataframes) e preparar os dados adequadamente para o modelo.\n",
    "\n",
    "Aqui está o fluxo recomendado:\n",
    "📌 Passo 1: Preparação dos Dados\n",
    "\n",
    "✅ Manter um único dataframe e criar a variável alvo Churn como 0 (não cancelou) e 1 (cancelou).\n",
    "✅ Transformar variáveis qualitativas em quantitativas → (Encoding das features categóricas).\n",
    "✅ Lidar com valores ausentes e possíveis anomalias.\n",
    "✅ Normalizar ou padronizar as variáveis numéricas, se necessário.\n",
    "📌 Passo 2: Divisão dos Dados\n",
    "\n",
    "✅ Dividir os dados em \"features\" (X) e variável alvo (y).\n",
    "✅ Separar em conjunto de treino (80%) e teste (20%).\n",
    "📌 Passo 3: Treino de Modelos\n",
    "\n",
    "✅ Testar múltiplos modelos (exemplo: Regressão Logística, Random Forest, XGBoost, SVM, etc.).\n",
    "✅ Utilizar GridSearchCV para otimizar hiperparâmetros.\n",
    "✅ Comparar os desempenhos com métricas adequadas (exemplo: accuracy, precision, recall, F1-score).\n",
    "📌 Passo 4: Avaliação e Interpretação\n",
    "\n",
    "✅ Gerar matriz de confusão e relatório de classificação.\n",
    "✅ Verificar a importância das variáveis (Feature Importance).\n",
    "✅ Criar gráficos para entender a distribuição dos erros e prever clientes em risco."
   ]
  },
  {
   "cell_type": "code",
   "execution_count": null,
   "metadata": {},
   "outputs": [],
   "source": [
    "# git status                      # Verificar o estado do repositório\n",
    "# git add .                        # Adicionar todos os ficheiros novos e modificados\n",
    "# git commit -m \"Updating latest files before presentation of the work\"  # Commit das alterações\n",
    "# git push origin main             # Enviar para o GitHub"
   ]
  },
  {
   "cell_type": "code",
   "execution_count": null,
   "metadata": {},
   "outputs": [],
   "source": []
  }
 ],
 "metadata": {
  "kernelspec": {
   "display_name": "Python 3",
   "language": "python",
   "name": "python3"
  },
  "language_info": {
   "codemirror_mode": {
    "name": "ipython",
    "version": 3
   },
   "file_extension": ".py",
   "mimetype": "text/x-python",
   "name": "python",
   "nbconvert_exporter": "python",
   "pygments_lexer": "ipython3",
   "version": "3.12.9"
  }
 },
 "nbformat": 4,
 "nbformat_minor": 2
}
